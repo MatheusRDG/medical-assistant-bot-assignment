{
 "cells": [
  {
   "cell_type": "markdown",
   "metadata": {},
   "source": [
    "# Metrics exploration\n",
    "\n",
    "This notebook emphasizes the text of some metrics for the QA statement relying only in (question, answer, prediction) pairs.\n",
    "\n",
    "Metrics for LLMs outputs can look for:\n",
    "- Correctness: Whether the generated answer matches that of the reference answer given the query (requires labels).\n",
    "- Semantic Similarity Whether the predicted answer is semantically similar to the reference answer (requires labels).\n",
    "- Faithfulness: Evaluates if the answer is faithful to the retrieved contexts (in other words, whether if there's hallucination).\n",
    "- Context Relevancy: Whether retrieved context is relevant to the query.\n",
    "- Answer Relevancy: Whether the generated answer is relevant to the query.\n",
    "- Guideline Adherence: Whether the predicted answer adheres to specific guidelines.\n"
   ]
  },
  {
   "cell_type": "markdown",
   "metadata": {},
   "source": [
    "## Libs and Variables"
   ]
  },
  {
   "cell_type": "code",
   "execution_count": 153,
   "metadata": {},
   "outputs": [],
   "source": [
    "import re\n",
    "import random\n",
    "import numpy as np\n",
    "import pandas as pd\n",
    "import torch\n",
    "\n",
    "import matplotlib.pyplot as plt\n",
    "\n",
    "clean_repeated_ws = lambda text: re.sub(r\"\\s+\", \" \", text).strip()"
   ]
  },
  {
   "cell_type": "code",
   "execution_count": 2,
   "metadata": {},
   "outputs": [],
   "source": [
    "def seed_all():\n",
    "    \"\"\"\n",
    "    Seed all the random number generators to ensure reproducibility.\n",
    "\n",
    "    This function sets the seed for the Python built-in random module and the NumPy random module to 42.\n",
    "    This ensures that any random operations performed using these modules will produce the same results\n",
    "    each time the code is run.\n",
    "    \"\"\"\n",
    "    random.seed(42)\n",
    "    np.random.seed(42)\n",
    "    torch.manual_seed(42)\n",
    "\n",
    "\n",
    "seed_all()"
   ]
  },
  {
   "cell_type": "code",
   "execution_count": 3,
   "metadata": {},
   "outputs": [],
   "source": [
    "DATA_PATH = \"../data/data.csv\""
   ]
  },
  {
   "cell_type": "markdown",
   "metadata": {},
   "source": [
    "## Load data"
   ]
  },
  {
   "cell_type": "code",
   "execution_count": 4,
   "metadata": {},
   "outputs": [],
   "source": [
    "data = pd.read_csv(DATA_PATH)\n",
    "\n",
    "data[\"question\"] = data[\"question\"].astype(str)\n",
    "data[\"answer\"] = data[\"answer\"].astype(str)\n",
    "\n",
    "data[\"question\"] = data[\"question\"].apply(clean_repeated_ws)\n",
    "data[\"answer\"] = data[\"answer\"].apply(clean_repeated_ws)"
   ]
  },
  {
   "cell_type": "code",
   "execution_count": 5,
   "metadata": {},
   "outputs": [
    {
     "data": {
      "text/html": [
       "<style type=\"text/css\">\n",
       "</style>\n",
       "<table id=\"T_2ba28\">\n",
       "  <thead>\n",
       "    <tr>\n",
       "      <th class=\"blank level0\" >&nbsp;</th>\n",
       "      <th id=\"T_2ba28_level0_col0\" class=\"col_heading level0 col0\" >question</th>\n",
       "      <th id=\"T_2ba28_level0_col1\" class=\"col_heading level0 col1\" >answer</th>\n",
       "    </tr>\n",
       "  </thead>\n",
       "  <tbody>\n",
       "    <tr>\n",
       "      <th id=\"T_2ba28_level0_row0\" class=\"row_heading level0 row0\" >3634</th>\n",
       "      <td id=\"T_2ba28_row0_col0\" class=\"data row0 col0\" >Is Juvenile Huntington disease inherited ?</td>\n",
       "      <td id=\"T_2ba28_row0_col1\" class=\"data row0 col1\" >How is Juvenile Huntington disease (HD) inherited? Juvenile HD is inherited in an autosomal dominant manner, which means that one copy of the altered gene in each cell is sufficient to cause the disorder. An affected person usually inherits the altered gene from one affected parent. As the altered HTT gene is passed from one generation to the next, the size of the CAG trinucleotide repeat often increases in size. A larger number of repeats is usually associated with an earlier onset of signs and symptoms (anticipation). A larger number of repeats is usually associated with an earlier onset of signs and symptoms. Most often, children with juvenile HD inherit the expanded CAG trinucleotide repeat from their fathers, although on occasion they inherit it from their mothers.</td>\n",
       "    </tr>\n",
       "    <tr>\n",
       "      <th id=\"T_2ba28_level0_row1\" class=\"row_heading level0 row1\" >13745</th>\n",
       "      <td id=\"T_2ba28_row1_col0\" class=\"data row1 col0\" >What are the treatments for nemaline myopathy ?</td>\n",
       "      <td id=\"T_2ba28_row1_col1\" class=\"data row1 col1\" >These resources address the diagnosis or management of nemaline myopathy: - Gene Review: Gene Review: Nemaline Myopathy - Genetic Testing Registry: Nemaline myopathy - Genetic Testing Registry: Nemaline myopathy 1 - Genetic Testing Registry: Nemaline myopathy 10 - Genetic Testing Registry: Nemaline myopathy 2 - Genetic Testing Registry: Nemaline myopathy 3 - Genetic Testing Registry: Nemaline myopathy 4 - Genetic Testing Registry: Nemaline myopathy 5 - Genetic Testing Registry: Nemaline myopathy 6 - Genetic Testing Registry: Nemaline myopathy 7 - Genetic Testing Registry: Nemaline myopathy 8 - Genetic Testing Registry: Nemaline myopathy 9 These resources from MedlinePlus offer information about the diagnosis and management of various health conditions: - Diagnostic Tests - Drug Therapy - Surgery and Rehabilitation - Genetic Counseling - Palliative Care</td>\n",
       "    </tr>\n",
       "    <tr>\n",
       "      <th id=\"T_2ba28_level0_row2\" class=\"row_heading level0 row2\" >4395</th>\n",
       "      <td id=\"T_2ba28_row2_col0\" class=\"data row2 col0\" >What is (are) Hailey-Hailey disease ?</td>\n",
       "      <td id=\"T_2ba28_row2_col1\" class=\"data row2 col1\" >Hailey-Hailey disease is a hereditary blistering skin disease. Signs and symptoms include a painful rash and blistering in skin folds such as the armpits, groin, neck, under the breasts, and between the buttocks. Secondary bacterial infections are not uncommon. Symptoms are often worse in summer months due to heat, sweating and friction. Hailey-Hailey disease is caused by mutations in the ATP2C1 gene and is inherited in an autosomal dominant manner. Treatment focuses on reducing symptoms and preventing flares.</td>\n",
       "    </tr>\n",
       "    <tr>\n",
       "      <th id=\"T_2ba28_level0_row3\" class=\"row_heading level0 row3\" >10274</th>\n",
       "      <td id=\"T_2ba28_row3_col0\" class=\"data row3 col0\" >Is transthyretin amyloidosis inherited ?</td>\n",
       "      <td id=\"T_2ba28_row3_col1\" class=\"data row3 col1\" >This condition is inherited in an autosomal dominant pattern, which means one copy of the altered gene in each cell is sufficient to cause the disorder. In most cases, an affected person inherits the mutation from one affected parent. Rarely, cases result from new mutations in the gene and occur in people with no history of the disorder in their family. Not all people who have a TTR gene mutation will develop transthyretin amyloidosis.</td>\n",
       "    </tr>\n",
       "    <tr>\n",
       "      <th id=\"T_2ba28_level0_row4\" class=\"row_heading level0 row4\" >149</th>\n",
       "      <td id=\"T_2ba28_row4_col0\" class=\"data row4 col0\" >How many people are affected by Balance Problems ?</td>\n",
       "      <td id=\"T_2ba28_row4_col1\" class=\"data row4 col1\" >In 2008, an estimated 14.8 percent of American adults (33.4 million) had a balance or dizziness problem during the past year. See statistics about the frequency of balance and other sensory impairments in older adults. (Centers for Disease Control and Prevention)</td>\n",
       "    </tr>\n",
       "  </tbody>\n",
       "</table>\n"
      ],
      "text/plain": [
       "<pandas.io.formats.style.Styler at 0x2667edc82b0>"
      ]
     },
     "execution_count": 5,
     "metadata": {},
     "output_type": "execute_result"
    }
   ],
   "source": [
    "data.sample(5).style"
   ]
  },
  {
   "cell_type": "markdown",
   "metadata": {},
   "source": [
    "## Metrics"
   ]
  },
  {
   "cell_type": "code",
   "execution_count": 151,
   "metadata": {},
   "outputs": [],
   "source": [
    "import evaluate\n",
    "\n",
    "sentence1 = \"the cat ate rat\"\n",
    "sentence2 = \"the cat ate rat and cake\""
   ]
  },
  {
   "cell_type": "code",
   "execution_count": 152,
   "metadata": {},
   "outputs": [
    {
     "data": {
      "text/plain": [
       "{'bleu': {'bleu': 0.622575605525697,\n",
       "  'precisions': [0.8888888888888888, 1.0, 1.0, 1.0],\n",
       "  'brevity_penalty': 0.6411803884299546,\n",
       "  'length_ratio': 0.6923076923076923,\n",
       "  'translation_length': 9,\n",
       "  'reference_length': 13},\n",
       " 'bertscore': {'precision': [0.9518955945968628,\n",
       "   0.9518955945968628,\n",
       "   0.8476719260215759],\n",
       "  'recall': [0.9021646976470947, 0.9021646976470947, 0.8476719260215759],\n",
       "  'f1': [0.9263632297515869, 0.9263632297515869, 0.8476719260215759],\n",
       "  'hashcode': 'distilbert-base-uncased_L5_no-idf_version=0.3.12(hug_trans=4.46.3)'}}"
      ]
     },
     "execution_count": 152,
     "metadata": {},
     "output_type": "execute_result"
    }
   ],
   "source": [
    "from metrics import compute_metrics\n",
    "\n",
    "compute_metrics([sentence1, sentence1, \"hello\"], [[sentence2], [sentence2], [\"hi\"]])"
   ]
  }
 ],
 "metadata": {
  "kernelspec": {
   "display_name": "ml_base_310",
   "language": "python",
   "name": "python3"
  },
  "language_info": {
   "codemirror_mode": {
    "name": "ipython",
    "version": 3
   },
   "file_extension": ".py",
   "mimetype": "text/x-python",
   "name": "python",
   "nbconvert_exporter": "python",
   "pygments_lexer": "ipython3",
   "version": "3.10.15"
  }
 },
 "nbformat": 4,
 "nbformat_minor": 2
}
